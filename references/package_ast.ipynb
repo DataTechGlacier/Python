{
 "cells": [
  {
   "cell_type": "markdown",
   "id": "b23644d1",
   "metadata": {},
   "source": [
    "## `literal_eval` function \n",
    "\n",
    "* It is used to safely evaluate strings containing Python literals (like numbers, lists, dictionaries, tuples, and strings).\n",
    "* It parses a string and converts it into a corresponding Python data type.\n",
    "* Unlike `eval()`, it only evaluates basic Python literals and does not execute arbitrary code, making it much safer.\n",
    "\n",
    "### Example Usage\n",
    "✅ Converting a String Representation of a List"
   ]
  },
  {
   "cell_type": "code",
   "execution_count": 2,
   "id": "af45e209",
   "metadata": {},
   "outputs": [
    {
     "name": "stdout",
     "output_type": "stream",
     "text": [
      "[1, 2, 3, 4]\n",
      "<class 'list'>\n"
     ]
    }
   ],
   "source": [
    "import ast\n",
    "\n",
    "s = \"[1, 2, 3, 4]\"\n",
    "result = ast.literal_eval(s)\n",
    "print(result)        # Output: [1, 2, 3, 4]\n",
    "print(type(result))  # Output: <class 'list'>\n"
   ]
  },
  {
   "cell_type": "markdown",
   "id": "22fecf76",
   "metadata": {},
   "source": [
    "✅ Converting a String Representation of a Dictionary"
   ]
  },
  {
   "cell_type": "code",
   "execution_count": 3,
   "id": "c9d2f6ae",
   "metadata": {},
   "outputs": [
    {
     "name": "stdout",
     "output_type": "stream",
     "text": [
      "{'name': 'Tresa', 'age': 30}\n",
      "<class 'dict'>\n"
     ]
    }
   ],
   "source": [
    "s = \"{'name': 'Tresa', 'age': 30}\"\n",
    "result = ast.literal_eval(s)\n",
    "print(result)        # Output: {'name': 'Tresa', 'age': 30}\n",
    "print(type(result))  # Output: <class 'dict'>\n"
   ]
  },
  {
   "cell_type": "markdown",
   "id": "517f3e1e",
   "metadata": {},
   "source": [
    "✅ Converting a String Representation of a Tuple"
   ]
  },
  {
   "cell_type": "code",
   "execution_count": 4,
   "id": "ce955521",
   "metadata": {},
   "outputs": [
    {
     "name": "stdout",
     "output_type": "stream",
     "text": [
      "(10, 20, 30)\n",
      "<class 'tuple'>\n"
     ]
    }
   ],
   "source": [
    "s = \"(10, 20, 30)\"\n",
    "result = ast.literal_eval(s)\n",
    "print(result)        # Output: (10, 20, 30)\n",
    "print(type(result))  # Output: <class 'tuple'>\n"
   ]
  },
  {
   "cell_type": "markdown",
   "id": "c1e5facd",
   "metadata": {},
   "source": [
    "### Why Use `literal_eval()` Instead of `eval()`?\n",
    "`eval()` can execute arbitrary code, which is dangerous. Example:\n",
    "\n",
    "```\n",
    "eval(\"__import__('os').system('rm -rf /')\")  # This can delete files!\n",
    "```\n",
    "\n",
    "Since literal_eval() only evaluates literal expressions, it prevents security risks.\n",
    "\n",
    "### When to Use literal_eval()\n",
    "* When you need to convert strings containing Python data structures into their actual types.\n",
    "* When reading data from files, databases, or APIs that return Python-like structures.\n",
    "* When you want a safe alternative to eval()."
   ]
  },
  {
   "cell_type": "code",
   "execution_count": null,
   "id": "114dff00",
   "metadata": {},
   "outputs": [],
   "source": []
  }
 ],
 "metadata": {
  "kernelspec": {
   "display_name": "Python 3",
   "language": "python",
   "name": "python3"
  },
  "language_info": {
   "codemirror_mode": {
    "name": "ipython",
    "version": 3
   },
   "file_extension": ".py",
   "mimetype": "text/x-python",
   "name": "python",
   "nbconvert_exporter": "python",
   "pygments_lexer": "ipython3",
   "version": "3.7.6"
  }
 },
 "nbformat": 4,
 "nbformat_minor": 5
}
