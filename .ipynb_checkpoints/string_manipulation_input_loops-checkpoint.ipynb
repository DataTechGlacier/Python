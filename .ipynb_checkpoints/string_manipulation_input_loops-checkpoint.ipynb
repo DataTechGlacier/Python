{
 "cells": [
  {
   "cell_type": "markdown",
   "metadata": {
    "colab_type": "text",
    "id": "view-in-github"
   },
   "source": [
    "<a href=\"https://colab.research.google.com/github/DataTechGlacier/Python/blob/main/string_manipulation_input_loops.ipynb\" target=\"_parent\"><img src=\"https://colab.research.google.com/assets/colab-badge.svg\" alt=\"Open In Colab\"/></a>"
   ]
  },
  {
   "cell_type": "markdown",
   "metadata": {
    "id": "xCfRWoKtV_4C"
   },
   "source": [
    "## Name Formatter\n",
    "\n",
    "**Problem:**\n",
    "Ask the user to enter their first and last name.\n",
    "\n",
    "Format the name in different styles (e.g., all uppercase, all lowercase, title case).\n",
    "\n",
    "**Concepts Covered:**\n",
    "\n",
    "* String methods\n",
    "* Input handling"
   ]
  },
  {
   "cell_type": "code",
   "execution_count": null,
   "metadata": {
    "id": "0B9xwIGBWp3V"
   },
   "outputs": [],
   "source": [
    "Sample Prompt:\n",
    "Enter your first name: john\n",
    "Enter your last name: dew\n",
    "\n",
    "Minimum sample Output:\n",
    "**************************************\n",
    "*                                    *\n",
    "*         WELCOME DEW FAMILY         *\n",
    "*                                    *\n",
    "*                               from,*\n",
    "*                    Heavenly Resorts*\n",
    "**************************************\n",
    "\n",
    "Hello Mr.Dew and Mrs.Dew,\n",
    "\n",
    "We are pleased to welcome you. Your Wifi password is Dew,John@heavenlyResorts."
   ]
  },
  {
   "cell_type": "markdown",
   "metadata": {
    "id": "7XMmDntOb0_w"
   },
   "source": [
    "## Guess the Number\n",
    "**Problem:**\n",
    "Create a simple number-guessing game.\n",
    "\n",
    "* Generate a random number between 1 and 100.\n",
    "* Allow the user to guess, providing hints like \"Too high!\" or \"Too low!\" until they guess correctly.\n",
    "* Count the number of attempts.\n",
    "\n",
    "**Concepts Covered:**\n",
    "\n",
    "* Random module\n",
    "* Loops\n",
    "* Conditional statements"
   ]
  },
  {
   "cell_type": "markdown",
   "metadata": {
    "id": "qMBSUJLycOa2"
   },
   "source": [
    "## Temperature Logger\n",
    "**Problem:**\n",
    "Build a program that allows the user to log daily temperatures for a week.\n",
    "\n",
    "* Store the data in a list.\n",
    "* Calculate the average temperature and find the highest and lowest temperatures.\n",
    "\n",
    "\n",
    "Concepts Covered:\n",
    "\n",
    "* Lists\n",
    "* Loops\n",
    "* Arithmetic operations"
   ]
  },
  {
   "cell_type": "markdown",
   "metadata": {
    "id": "kPaZ4XXXcnz1"
   },
   "source": [
    "## Expense Tracker\n",
    "**Problem:**\n",
    "Write a program that allows the user to input daily expenses.\n",
    "\n",
    "* Ask the user to enter the date, description, and amount for each expense.\n",
    "* Store this data in a list of dictionaries.\n",
    "* At the end of the program, calculate the total expenses and display all the entries in a neat table.\n",
    "\n",
    "\n",
    "**Concepts Covered:**\n",
    "\n",
    "* Lists and dictionaries\n",
    "* Loops\n",
    "* Input and basic formatting"
   ]
  },
  {
   "cell_type": "code",
   "execution_count": null,
   "metadata": {
    "id": "72upr3ixaUf8"
   },
   "outputs": [],
   "source": [
    "\n"
   ]
  }
 ],
 "metadata": {
  "colab": {
   "authorship_tag": "ABX9TyP3P4LQIX5WxWk7Glaak9bZ",
   "include_colab_link": true,
   "provenance": []
  },
  "kernelspec": {
   "display_name": "Python 3",
   "language": "python",
   "name": "python3"
  },
  "language_info": {
   "codemirror_mode": {
    "name": "ipython",
    "version": 3
   },
   "file_extension": ".py",
   "mimetype": "text/x-python",
   "name": "python",
   "nbconvert_exporter": "python",
   "pygments_lexer": "ipython3",
   "version": "3.7.6"
  }
 },
 "nbformat": 4,
 "nbformat_minor": 1
}
