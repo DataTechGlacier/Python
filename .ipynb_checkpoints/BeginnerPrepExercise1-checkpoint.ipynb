{
 "cells": [
  {
   "cell_type": "markdown",
   "metadata": {
    "colab_type": "text",
    "id": "view-in-github"
   },
   "source": [
    "<a href=\"https://colab.research.google.com/github/DataTechGlacier/Python/blob/main/BeginnerPrepExercise1.ipynb\" target=\"_parent\"><img src=\"https://colab.research.google.com/assets/colab-badge.svg\" alt=\"Open In Colab\"/></a>"
   ]
  },
  {
   "cell_type": "markdown",
   "metadata": {
    "id": "eF149Iw4IFAv"
   },
   "source": [
    "## Part 1: Variables and Data Types\n",
    "1. Create and Display Variables\n",
    "\n",
    "* Create variables to store the following information:\n",
    "  * Your name (string)\n",
    "  * Your age (integer)\n",
    "  * Your height in meters (float)\n",
    "  * Whether you are a student (boolean)\n",
    "* Print each variable with an appropriate label"
   ]
  },
  {
   "cell_type": "code",
   "execution_count": null,
   "metadata": {
    "id": "qCoJjsW7IEbw"
   },
   "outputs": [],
   "source": []
  },
  {
   "cell_type": "markdown",
   "metadata": {
    "id": "eBjxtbO2Ibr_"
   },
   "source": [
    "2. Data Type Identification\n",
    "\n",
    "* Create variables for the following:\n",
    "  * `amount = 123.45`\n",
    "  * `is_valid = True`\n",
    "  * `customer_name = \"Alice\"`\n",
    "  * `items = 5`\n",
    "* Use the `type()` function to display the data type of each variable."
   ]
  },
  {
   "cell_type": "code",
   "execution_count": null,
   "metadata": {
    "id": "b9YEtuG5JZ5D"
   },
   "outputs": [],
   "source": []
  },
  {
   "cell_type": "markdown",
   "metadata": {
    "id": "QOFNc-_2JFYu"
   },
   "source": [
    "## Part 2: Print Statements and Formatting\n",
    "### 3. Formatted Printing\n",
    "\n",
    "* Create the following variables:\n",
    "```product_name = \"Laptop\"\n",
    "price = 999.99\n",
    "quantity = 2\n",
    "```\n",
    "* Print a message formatted as\n",
    "```\n",
    "You purchased 2 Laptop(s) for $999.99 each.\n",
    "```"
   ]
  },
  {
   "cell_type": "code",
   "execution_count": null,
   "metadata": {
    "id": "83GvQvQSKVms"
   },
   "outputs": [],
   "source": []
  },
  {
   "cell_type": "markdown",
   "metadata": {
    "id": "uWJIlXrkKYBb"
   },
   "source": [
    "## Part 3: Arithmetic Operations and Rounding\n",
    "### Rounding to Two Decimal Places\n",
    "\n",
    "* Write a program that calculates the total cost of items with tax:\n",
    "```\n",
    "item_cost = 19.99\n",
    "tax_rate = 0.075 (7.5%)\n",
    "```\n",
    "* Calculate the total cost (item_cost + (item_cost * tax_rate)) and display it rounded to 2 decimal places.\n",
    "\n",
    "**Expected Output:**\n",
    "```\n",
    "Total cost: $21.49\n",
    "```"
   ]
  },
  {
   "cell_type": "code",
   "execution_count": null,
   "metadata": {
    "id": "jqdvuIlqKzcd"
   },
   "outputs": [],
   "source": []
  },
  {
   "cell_type": "markdown",
   "metadata": {
    "id": "aia75SGNK0mF"
   },
   "source": [
    "### Percentage Calculation\n",
    "\n",
    "* Calculate the percentage of marks scored by a student:\n",
    "```\n",
    "total_marks = 500\n",
    "marks_scored = 435\n",
    "```\n",
    "* Calculate and print the percentage rounded to 2 decimal places.\n",
    "\n",
    "** Expected Output:**\n",
    "```\n",
    "Percentage: 87.00%\n",
    "```"
   ]
  },
  {
   "cell_type": "code",
   "execution_count": null,
   "metadata": {
    "id": "zWUYALyDKe-E"
   },
   "outputs": [],
   "source": []
  },
  {
   "cell_type": "markdown",
   "metadata": {
    "id": "XE_1K07SLDae"
   },
   "source": [
    "* Temperature Conversion\n",
    "\n",
    "Write a program to convert temperature from Celsius to Fahrenheit:\n",
    "\n",
    "Formula: $F = C X \\frac{9}{5}+ 32$\n",
    "\n",
    "\n",
    "* Create a variable `temp_celsius` and set it to 37.\n",
    "* Calculate and print the temperature in Fahrenheit rounded to 1 decimal place."
   ]
  },
  {
   "cell_type": "code",
   "execution_count": null,
   "metadata": {
    "id": "BRZRZDd8ODKE"
   },
   "outputs": [],
   "source": []
  }
 ],
 "metadata": {
  "colab": {
   "authorship_tag": "ABX9TyOFVB3MbYBdHhx9DXUEUV0b",
   "include_colab_link": true,
   "provenance": []
  },
  "kernelspec": {
   "display_name": "Python 3",
   "language": "python",
   "name": "python3"
  },
  "language_info": {
   "codemirror_mode": {
    "name": "ipython",
    "version": 3
   },
   "file_extension": ".py",
   "mimetype": "text/x-python",
   "name": "python",
   "nbconvert_exporter": "python",
   "pygments_lexer": "ipython3",
   "version": "3.7.6"
  }
 },
 "nbformat": 4,
 "nbformat_minor": 1
}
