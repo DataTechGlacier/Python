{
  "nbformat": 4,
  "nbformat_minor": 0,
  "metadata": {
    "colab": {
      "provenance": [],
      "authorship_tag": "ABX9TyOFVB3MbYBdHhx9DXUEUV0b",
      "include_colab_link": true
    },
    "kernelspec": {
      "name": "python3",
      "display_name": "Python 3"
    },
    "language_info": {
      "name": "python"
    }
  },
  "cells": [
    {
      "cell_type": "markdown",
      "metadata": {
        "id": "view-in-github",
        "colab_type": "text"
      },
      "source": [
        "<a href=\"https://colab.research.google.com/github/DataTechGlacier/Python/blob/main/BeginnerPrepExercise1.ipynb\" target=\"_parent\"><img src=\"https://colab.research.google.com/assets/colab-badge.svg\" alt=\"Open In Colab\"/></a>"
      ]
    },
    {
      "cell_type": "markdown",
      "source": [
        "## Part 1: Variables and Data Types\n",
        "1. Create and Display Variables\n",
        "\n",
        "* Create variables to store the following information:\n",
        "  * Your name (string)\n",
        "  * Your age (integer)\n",
        "  * Your height in meters (float)\n",
        "  * Whether you are a student (boolean)\n",
        "* Print each variable with an appropriate label"
      ],
      "metadata": {
        "id": "eF149Iw4IFAv"
      }
    },
    {
      "cell_type": "code",
      "source": [],
      "metadata": {
        "id": "qCoJjsW7IEbw"
      },
      "execution_count": null,
      "outputs": []
    },
    {
      "cell_type": "markdown",
      "source": [
        "2. Data Type Identification\n",
        "\n",
        "* Create variables for the following:\n",
        "  * `amount = 123.45`\n",
        "  * `is_valid = True`\n",
        "  * `customer_name = \"Alice\"`\n",
        "  * `items = 5`\n",
        "* Use the `type()` function to display the data type of each variable."
      ],
      "metadata": {
        "id": "eBjxtbO2Ibr_"
      }
    },
    {
      "cell_type": "code",
      "source": [],
      "metadata": {
        "id": "b9YEtuG5JZ5D"
      },
      "execution_count": null,
      "outputs": []
    },
    {
      "cell_type": "markdown",
      "source": [
        "## Part 2: Print Statements and Formatting\n",
        "### 3. Formatted Printing\n",
        "\n",
        "* Create the following variables:\n",
        "```product_name = \"Laptop\"\n",
        "price = 999.99\n",
        "quantity = 2\n",
        "```\n",
        "* Print a message formatted as\n",
        "```\n",
        "You purchased 2 Laptop(s) for $999.99 each.\n",
        "```"
      ],
      "metadata": {
        "id": "QOFNc-_2JFYu"
      }
    },
    {
      "cell_type": "code",
      "source": [],
      "metadata": {
        "id": "83GvQvQSKVms"
      },
      "execution_count": null,
      "outputs": []
    },
    {
      "cell_type": "markdown",
      "source": [
        "## Part 3: Arithmetic Operations and Rounding\n",
        "### Rounding to Two Decimal Places\n",
        "\n",
        "* Write a program that calculates the total cost of items with tax:\n",
        "```\n",
        "item_cost = 19.99\n",
        "tax_rate = 0.075 (7.5%)\n",
        "```\n",
        "* Calculate the total cost (item_cost + (item_cost * tax_rate)) and display it rounded to 2 decimal places.\n",
        "\n",
        "**Expected Output:**\n",
        "```\n",
        "Total cost: $21.49\n",
        "```"
      ],
      "metadata": {
        "id": "uWJIlXrkKYBb"
      }
    },
    {
      "cell_type": "code",
      "source": [],
      "metadata": {
        "id": "jqdvuIlqKzcd"
      },
      "execution_count": null,
      "outputs": []
    },
    {
      "cell_type": "markdown",
      "source": [
        "### Percentage Calculation\n",
        "\n",
        "* Calculate the percentage of marks scored by a student:\n",
        "```\n",
        "total_marks = 500\n",
        "marks_scored = 435\n",
        "```\n",
        "* Calculate and print the percentage rounded to 2 decimal places.\n",
        "\n",
        "** Expected Output:**\n",
        "```\n",
        "Percentage: 87.00%\n",
        "```"
      ],
      "metadata": {
        "id": "aia75SGNK0mF"
      }
    },
    {
      "cell_type": "code",
      "source": [],
      "metadata": {
        "id": "zWUYALyDKe-E"
      },
      "execution_count": null,
      "outputs": []
    },
    {
      "cell_type": "markdown",
      "source": [
        "* Temperature Conversion\n",
        "\n",
        "Write a program to convert temperature from Celsius to Fahrenheit:\n",
        "\n",
        "Formula: $F = C X \\frac{9}{5}+ 32$\n",
        "\n",
        "\n",
        "* Create a variable `temp_celsius` and set it to 37.\n",
        "* Calculate and print the temperature in Fahrenheit rounded to 1 decimal place."
      ],
      "metadata": {
        "id": "XE_1K07SLDae"
      }
    },
    {
      "cell_type": "code",
      "source": [],
      "metadata": {
        "id": "BRZRZDd8ODKE"
      },
      "execution_count": null,
      "outputs": []
    }
  ]
}