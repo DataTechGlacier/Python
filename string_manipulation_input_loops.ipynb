{
  "nbformat": 4,
  "nbformat_minor": 0,
  "metadata": {
    "colab": {
      "provenance": [],
      "authorship_tag": "ABX9TyP3P4LQIX5WxWk7Glaak9bZ",
      "include_colab_link": true
    },
    "kernelspec": {
      "name": "python3",
      "display_name": "Python 3"
    },
    "language_info": {
      "name": "python"
    }
  },
  "cells": [
    {
      "cell_type": "markdown",
      "metadata": {
        "id": "view-in-github",
        "colab_type": "text"
      },
      "source": [
        "<a href=\"https://colab.research.google.com/github/DataTechGlacier/Python/blob/main/string_manipulation_input_loops.ipynb\" target=\"_parent\"><img src=\"https://colab.research.google.com/assets/colab-badge.svg\" alt=\"Open In Colab\"/></a>"
      ]
    },
    {
      "cell_type": "markdown",
      "source": [
        "## Name Formatter\n",
        "\n",
        "**Problem:**\n",
        "Ask the user to enter their first and last name.\n",
        "\n",
        "Format the name in different styles (e.g., all uppercase, all lowercase, title case).\n",
        "\n",
        "**Concepts Covered:**\n",
        "\n",
        "* String methods\n",
        "* Input handling"
      ],
      "metadata": {
        "id": "xCfRWoKtV_4C"
      }
    },
    {
      "cell_type": "code",
      "source": [
        "Sample Prompt:\n",
        "Enter your first name: john\n",
        "Enter your last name: dew\n",
        "\n",
        "Minimum sample Output:\n",
        "**************************************\n",
        "*                                    *\n",
        "*         WELCOME DEW FAMILY         *\n",
        "*                                    *\n",
        "*                               from,*\n",
        "*                    Heavenly Resorts*\n",
        "**************************************\n",
        "\n",
        "Hello Mr.Dew and Mrs.Dew,\n",
        "\n",
        "We are pleased to welcome you. Your Wifi password is Dew,John@heavenlyResorts."
      ],
      "metadata": {
        "id": "0B9xwIGBWp3V"
      },
      "execution_count": null,
      "outputs": []
    },
    {
      "cell_type": "markdown",
      "source": [
        "## Guess the Number\n",
        "**Problem:**\n",
        "Create a simple number-guessing game.\n",
        "\n",
        "* Generate a random number between 1 and 100.\n",
        "* Allow the user to guess, providing hints like \"Too high!\" or \"Too low!\" until they guess correctly.\n",
        "* Count the number of attempts.\n",
        "\n",
        "**Concepts Covered:**\n",
        "\n",
        "* Random module\n",
        "* Loops\n",
        "* Conditional statements"
      ],
      "metadata": {
        "id": "7XMmDntOb0_w"
      }
    },
    {
      "cell_type": "markdown",
      "source": [
        "## Temperature Logger\n",
        "**Problem:**\n",
        "Build a program that allows the user to log daily temperatures for a week.\n",
        "\n",
        "* Store the data in a list.\n",
        "* Calculate the average temperature and find the highest and lowest temperatures.\n",
        "\n",
        "\n",
        "Concepts Covered:\n",
        "\n",
        "* Lists\n",
        "* Loops\n",
        "* Arithmetic operations"
      ],
      "metadata": {
        "id": "qMBSUJLycOa2"
      }
    },
    {
      "cell_type": "markdown",
      "source": [
        "## Expense Tracker\n",
        "**Problem:**\n",
        "Write a program that allows the user to input daily expenses.\n",
        "\n",
        "* Ask the user to enter the date, description, and amount for each expense.\n",
        "* Store this data in a list of dictionaries.\n",
        "* At the end of the program, calculate the total expenses and display all the entries in a neat table.\n",
        "\n",
        "\n",
        "**Concepts Covered:**\n",
        "\n",
        "* Lists and dictionaries\n",
        "* Loops\n",
        "* Input and basic formatting"
      ],
      "metadata": {
        "id": "kPaZ4XXXcnz1"
      }
    },
    {
      "cell_type": "code",
      "source": [
        "\n"
      ],
      "metadata": {
        "id": "72upr3ixaUf8"
      },
      "execution_count": null,
      "outputs": []
    }
  ]
}